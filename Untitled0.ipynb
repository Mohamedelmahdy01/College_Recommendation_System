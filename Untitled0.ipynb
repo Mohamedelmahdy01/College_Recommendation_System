{
 "cells": [
  {
   "cell_type": "code",
   "execution_count": 19,
   "metadata": {
    "colab": {
     "base_uri": "https://localhost:8080/"
    },
    "id": "_lz-bqnRRI7H",
    "outputId": "b4c0da41-702d-4f0a-c027-7e91e3783d8c"
   },
   "outputs": [],
   "source": [
    "from sklearn.model_selection import train_test_split\n",
    "from sklearn.ensemble import RandomForestClassifier\n",
    "from sklearn.preprocessing import LabelEncoder\n",
    "from sklearn.metrics import accuracy_score, classification_report\n",
    "import pandas as pd\n",
    "\n",
    "file_path = \"college_recommendation_dataset.csv\"\n",
    "df = pd.read_csv(file_path)\n",
    "\n"
   ]
  },
  {
   "cell_type": "code",
   "execution_count": 20,
   "metadata": {},
   "outputs": [
    {
     "name": "stdout",
     "output_type": "stream",
     "text": [
      "Accuracy: 0.9675\n",
      "Classification Report:\n",
      "                               precision    recall  f1-score   support\n",
      "\n",
      "              Business School       1.00      0.94      0.97       155\n",
      "       Design and Arts School       0.96      0.91      0.93       348\n",
      "          Engineering College       1.00      0.94      0.97       135\n",
      "         Liberal Arts College       0.99      1.00      1.00       258\n",
      "              Medical College       1.00      1.00      1.00       307\n",
      "Technology-focused University       0.94      1.00      0.97       660\n",
      "Vocational Training Institute       0.96      0.90      0.93       137\n",
      "\n",
      "                     accuracy                           0.97      2000\n",
      "                    macro avg       0.98      0.95      0.97      2000\n",
      "                 weighted avg       0.97      0.97      0.97      2000\n",
      "\n"
     ]
    }
   ],
   "source": [
    "label_encoders = {}\n",
    "for column in df.select_dtypes(include=\"object\").columns:\n",
    "    if column != \"Target College\":  \n",
    "        le = LabelEncoder()\n",
    "        df[column] = le.fit_transform(df[column])\n",
    "        label_encoders[column] = le\n",
    "\n",
    "target_encoder = LabelEncoder()\n",
    "df[\"Target College\"] = target_encoder.fit_transform(df[\"Target College\"])\n",
    "\n",
    "X = df.drop(\"Target College\", axis=1)  \n",
    "y = df[\"Target College\"] \n",
    "\n",
    "X_train, X_test, y_train, y_test = train_test_split(X, y, test_size=0.2, random_state=42)\n",
    "\n",
    "model = RandomForestClassifier(n_estimators=100, random_state=42)\n",
    "\n",
    "model.fit(X_train, y_train)\n",
    "\n",
    "y_pred = model.predict(X_test)\n",
    "\n",
    "accuracy = accuracy_score(y_test, y_pred)\n",
    "report = classification_report(y_test, y_pred, target_names=target_encoder.classes_)\n",
    "\n",
    "print(f\"Accuracy: {accuracy}\")\n",
    "print(\"Classification Report:\")\n",
    "print(report)\n",
    "\n"
   ]
  },
  {
   "cell_type": "code",
   "execution_count": 21,
   "metadata": {
    "colab": {
     "base_uri": "https://localhost:8080/"
    },
    "id": "dYn4uZZN1d-S",
    "outputId": "75b3ea98-3e95-4829-b968-d4825c11b9d4"
   },
   "outputs": [
    {
     "name": "stdout",
     "output_type": "stream",
     "text": [
      "Model saved at: college_recommendation_model.pkl\n",
      "Label encoders saved at: college_label_encoders.pkl\n",
      "Target encoder saved at: college_target_encoder.pkl\n"
     ]
    }
   ],
   "source": [
    "import joblib\n",
    "\n",
    "model_path = \"college_recommendation_model.pkl\"\n",
    "label_encoders_path = \"college_label_encoders.pkl\"\n",
    "target_encoder_path = \"college_target_encoder.pkl\"\n",
    "\n",
    "joblib.dump(model, model_path)\n",
    "joblib.dump(label_encoders, label_encoders_path)\n",
    "joblib.dump(target_encoder, target_encoder_path)\n",
    "\n",
    "print(f\"Model saved at: {model_path}\")\n",
    "print(f\"Label encoders saved at: {label_encoders_path}\")\n",
    "print(f\"Target encoder saved at: {target_encoder_path}\")\n"
   ]
  }
 ],
 "metadata": {
  "colab": {
   "provenance": []
  },
  "kernelspec": {
   "display_name": "Python 3",
   "name": "python3"
  },
  "language_info": {
   "codemirror_mode": {
    "name": "ipython",
    "version": 3
   },
   "file_extension": ".py",
   "mimetype": "text/x-python",
   "name": "python",
   "nbconvert_exporter": "python",
   "pygments_lexer": "ipython3",
   "version": "3.12.6"
  }
 },
 "nbformat": 4,
 "nbformat_minor": 0
}
